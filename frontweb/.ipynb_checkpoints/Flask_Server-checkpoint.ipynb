{
 "cells": [
  {
   "cell_type": "code",
   "execution_count": 1,
   "id": "81699842",
   "metadata": {},
   "outputs": [
    {
     "name": "stdout",
     "output_type": "stream",
     "text": [
      "Requirement already satisfied: flask in c:\\users\\gjaischool-78\\anaconda3\\lib\\site-packages (1.1.2)\n",
      "Requirement already satisfied: itsdangerous>=0.24 in c:\\users\\gjaischool-78\\anaconda3\\lib\\site-packages (from flask) (2.0.1)\n",
      "Requirement already satisfied: Jinja2>=2.10.1 in c:\\users\\gjaischool-78\\anaconda3\\lib\\site-packages (from flask) (2.11.3)\n",
      "Requirement already satisfied: Werkzeug>=0.15 in c:\\users\\gjaischool-78\\anaconda3\\lib\\site-packages (from flask) (2.0.3)\n",
      "Requirement already satisfied: click>=5.1 in c:\\users\\gjaischool-78\\anaconda3\\lib\\site-packages (from flask) (8.0.4)\n",
      "Requirement already satisfied: colorama in c:\\users\\gjaischool-78\\anaconda3\\lib\\site-packages (from click>=5.1->flask) (0.4.4)\n",
      "Requirement already satisfied: MarkupSafe>=0.23 in c:\\users\\gjaischool-78\\anaconda3\\lib\\site-packages (from Jinja2>=2.10.1->flask) (2.0.1)\n"
     ]
    }
   ],
   "source": [
    "!pip install flask"
   ]
  },
  {
   "cell_type": "markdown",
   "id": "29d012af",
   "metadata": {},
   "source": [
    "## Flask란?\n",
    "- Python 언어를 사용하는 마이크로 웹 프레임워크\n",
    "\n",
    "##### render_template : templates폴더 내 html문서를 호출하는 라이브러리. (대소문자 주의)\n",
    "#### request :요청과 관련된 작업을 수행할 수 있는 라이브러리"
   ]
  },
  {
   "cell_type": "markdown",
   "id": "282d10cc",
   "metadata": {},
   "source": [
    "## Data 전송 방식\n",
    "\n",
    "#### 1. GET방식 :URL에 ?(쿼리스트링) 형식을 통해 key와 Value의 쌍으로 전송\n",
    "  (주소 ? 키1 = 밸류1 & 키2 = 밸류2 의 형태)\n",
    "  (192.168.20.39:5012/cal?num1=3&num2=5)\n",
    "- 주소에 모든 값이 다 나오기 때문에 보안에 약함. 길이 제한 있음\n",
    "- 보안에 약하지만, 가볍고 빠르다\n",
    "\n",
    "#### 2. POST방식 : \\<body>태그 안쪽에 data가 key와 Valuse의 쌍으로 전송\n",
    "- 보안에는 강력하지만 , 공유에 약함"
   ]
  },
  {
   "cell_type": "code",
   "execution_count": null,
   "id": "c1252766",
   "metadata": {},
   "outputs": [
    {
     "name": "stdout",
     "output_type": "stream",
     "text": [
      " * Serving Flask app \"__main__\" (lazy loading)\n",
      " * Environment: production\n",
      "\u001b[31m   WARNING: This is a development server. Do not use it in a production deployment.\u001b[0m\n",
      "\u001b[2m   Use a production WSGI server instead.\u001b[0m\n",
      " * Debug mode: off\n"
     ]
    },
    {
     "name": "stderr",
     "output_type": "stream",
     "text": [
      " * Running on http://192.168.20.83:8888/ (Press CTRL+C to quit)\n",
      "192.168.20.83 - - [14/Nov/2022 09:17:39] \"GET / HTTP/1.1\" 200 -\n",
      "192.168.20.83 - - [14/Nov/2022 09:17:39] \"GET /css/styles.css HTTP/1.1\" 404 -\n",
      "192.168.20.83 - - [14/Nov/2022 09:17:39] \"GET /js/scripts.js HTTP/1.1\" 404 -\n",
      "192.168.20.83 - - [14/Nov/2022 09:17:39] \"GET /assets/demo/chart-area-demo.js HTTP/1.1\" 404 -\n",
      "192.168.20.83 - - [14/Nov/2022 09:17:39] \"GET /assets/demo/chart-bar-demo.js HTTP/1.1\" 404 -\n",
      "192.168.20.83 - - [14/Nov/2022 09:17:40] \"GET /js/datatables-simple-demo.js HTTP/1.1\" 404 -\n"
     ]
    }
   ],
   "source": [
    "from flask import Flask, render_template, request\n",
    "\n",
    "\n",
    "app = Flask(__name__)\n",
    "\n",
    "@app.route('/')\n",
    "def index():\n",
    "    return render_template('index.html')\n",
    "\n",
    "\n",
    "if __name__ == '__main__':\n",
    "    app.run(host='192.168.20.83', port='8888')"
   ]
  },
  {
   "cell_type": "markdown",
   "id": "22d65995",
   "metadata": {},
   "source": [
    "오늘 요약 :\n",
    "\n",
    "요청하는 쪽은 Client 데이터를 요청받은쪽, 데이터를 보내는 쪽은 Server\n",
    "\n",
    "보내는 값은 주소와 경로(ip,port,html경로 등), key, value\n",
    "\n",
    "전송방식은 GET과 POST"
   ]
  },
  {
   "cell_type": "code",
   "execution_count": null,
   "id": "93a1dd71",
   "metadata": {},
   "outputs": [],
   "source": []
  },
  {
   "cell_type": "markdown",
   "id": "04ef2e10",
   "metadata": {},
   "source": [
    "### 기본코드"
   ]
  },
  {
   "cell_type": "code",
   "execution_count": 8,
   "id": "d91e9ca5",
   "metadata": {},
   "outputs": [
    {
     "ename": "SyntaxError",
     "evalue": "invalid syntax (4074516118.py, line 4)",
     "output_type": "error",
     "traceback": [
      "\u001b[1;36m  Input \u001b[1;32mIn [8]\u001b[1;36m\u001b[0m\n\u001b[1;33m    del index():\u001b[0m\n\u001b[1;37m    ^\u001b[0m\n\u001b[1;31mSyntaxError\u001b[0m\u001b[1;31m:\u001b[0m invalid syntax\n"
     ]
    }
   ],
   "source": [
    "from flask import Flask\n",
    "app=Flask(__name__)\n",
    "@app.route('/')\n",
    "del index():\n",
    "    return 'Hello World'\n",
    "if __name__ == '__main__':\n",
    "    app.run()"
   ]
  },
  {
   "cell_type": "markdown",
   "id": "2bb6b97f",
   "metadata": {},
   "source": []
  },
  {
   "cell_type": "code",
   "execution_count": null,
   "id": "76180410",
   "metadata": {},
   "outputs": [],
   "source": []
  },
  {
   "cell_type": "code",
   "execution_count": null,
   "id": "774ca219",
   "metadata": {},
   "outputs": [],
   "source": []
  },
  {
   "cell_type": "markdown",
   "id": "10c8a1bb",
   "metadata": {},
   "source": [
    "타 기종간에, 다른 언어들 사이에 Data를 전송할 필요가 있을 때 \n",
    "\n",
    "- csv(comma separated value) => nayeho,21\n",
    "- xml( markup language) => <name>nayeho</name><age>21</age>\n",
    "- jason (javascript Object Notation) => {\"name\":\"nayeho\",\"age\":21}\n",
    "\n",
    "파이썬에서는 jason을 딕셔너리로 다루고, java에서는 map으로 다룬다"
   ]
  },
  {
   "cell_type": "code",
   "execution_count": 9,
   "id": "4f861ba8",
   "metadata": {},
   "outputs": [
    {
     "name": "stdout",
     "output_type": "stream",
     "text": [
      "<class 'dict'>\n",
      "[{'id': 'admin', 'pw': '1234'}, {'id': 'system', 'pw': '12345'}, {'id': 'ojy', 'pw': '1234'}, {'id': 'hello', 'pw': '1234'}, {'id': 'abcd', 'pw': '1234'}]\n"
     ]
    }
   ],
   "source": [
    "import os\n",
    "import json\n",
    "db = []\n",
    "\n",
    "#static폴더 내에 db.txt파일이 없으면\n",
    "if not os.path.exists('static/db.txt'):\n",
    "    file = open('static/db.txt','w')\n",
    "    \n",
    "    db.append ({'id':'admin', 'pw':'1234'})\n",
    "    db.append({'id':'system','pw':'12345'})\n",
    "    \n",
    "    #dictionary -> string : json 라이브러리\n",
    "    #string -> dictionary : jason 라이브러리\n",
    "    #=> json은 dictionay 형태의 data를 다루는 라이브러리임\n",
    "    str2 = json.dumps(db)\n",
    "    file.write(str2)\n",
    "    \n",
    "else :\n",
    "    file = open('static/db.txt','r')\n",
    "    #파일이 있으면 읽어오기\n",
    "    db=file.readline()\n",
    "    \n",
    "    #db를 str => json 으로 타입 변경 : json.loads()\n",
    "    database = json.loads(db)\n",
    "    \n",
    "    print(type(database[0]))\n",
    "    print(database)\n",
    "    \n",
    "\n",
    "file.close()\n",
    "    \n",
    "#회원 정보가 담긴 db.txt 파일 불러오자\n"
   ]
  },
  {
   "cell_type": "code",
   "execution_count": 10,
   "id": "e39523b2",
   "metadata": {},
   "outputs": [],
   "source": [
    "def login_check(login_id, login_pw):\n",
    "    \n",
    "    for user in database:\n",
    "        if user['id']== login_id and user['pw']:\n",
    "            return True\n",
    "        \n",
    "    return False"
   ]
  },
  {
   "cell_type": "code",
   "execution_count": 11,
   "id": "4dc2d075",
   "metadata": {},
   "outputs": [],
   "source": [
    "def sign_in(join_id, join_pw):\n",
    "    #1. database는 현재 jason list타입임\n",
    "    #   join_id와 join_pw를 dictionary type으로 append시키기\n",
    "    #2. jason => str 로 형변환한 후 db.txt에 쓰기\n",
    "    \n",
    "    join_dic={}\n",
    "    join_dic['id'] = join_id\n",
    "    join_dic['pw'] = join_pw\n",
    "    database.append(join_dic)\n",
    "    \n",
    "    new_user = json.dumps(database)\n",
    "    file = open('static/db.txt','w')\n",
    "    file.write(new_user)\n",
    "    file.close()\n",
    "    \n",
    "    print(database)        "
   ]
  },
  {
   "cell_type": "markdown",
   "id": "05357c7e",
   "metadata": {},
   "source": [
    "# 서버"
   ]
  },
  {
   "cell_type": "code",
   "execution_count": null,
   "id": "318d3340",
   "metadata": {},
   "outputs": [
    {
     "name": "stdout",
     "output_type": "stream",
     "text": [
      " * Serving Flask app \"__main__\" (lazy loading)\n",
      " * Environment: production\n",
      "\u001b[31m   WARNING: This is a development server. Do not use it in a production deployment.\u001b[0m\n",
      "\u001b[2m   Use a production WSGI server instead.\u001b[0m\n",
      " * Debug mode: off\n"
     ]
    },
    {
     "name": "stderr",
     "output_type": "stream",
     "text": [
      " * Running on http://192.168.20.39:5022/ (Press CTRL+C to quit)\n"
     ]
    }
   ],
   "source": [
    "from flask import Flask, render_template,request, redirect\n",
    "\n",
    "#redirect => 페이지를 이동하는 라이브러리\n",
    "\n",
    "app=Flask(__name__)\n",
    "\n",
    "@app.route('/')\n",
    "def index():\n",
    "    return render_template('login.html')\n",
    "\n",
    "@app.route('/login', methods=['POST'])\n",
    "def login():\n",
    "    if request.method == 'POST':\n",
    "        login_id = request.form['id']\n",
    "        login_pw = request.form['pw']\n",
    "\n",
    "        if login_check(login_id, login_pw) == True:\n",
    "            return \"로그인 성공\"\n",
    "        else :\n",
    "            return \"로그인실패\"       \n",
    "\n",
    "        \n",
    "@app.route('/join', methods=['POST'])        \n",
    "def join_member():    \n",
    "    if request.method=='POST':\n",
    "        join_id = request.form['id']\n",
    "        join_pw = request.form['pw']\n",
    "        join_name = request.form['name']\n",
    "        join(join_id, join_pw, join_name)\n",
    "        \n",
    "        #성공 실패 여부 상관없이 '/' 경로로 보내자\n",
    "        return redirect('/')\n",
    "    \n",
    "@app.route('/select')\n",
    "def select_member():\n",
    "    #DB를 통해 전체 회원 조회\n",
    "    result = select() \n",
    "#     result = '전체회원~~~'\n",
    "    return result\n",
    "    # return값에 html태그 가능, 문자열가능 / 정수형 불가능 , 리스트 불가능\n",
    "    \n",
    "if __name__ == '__main__':\n",
    "    app.run('192.168.20.39', 5022)"
   ]
  },
  {
   "cell_type": "markdown",
   "id": "381cabb5",
   "metadata": {},
   "source": [
    "# Python - Oracle DB연동\n",
    "## 1. 드라이버 설치 (Oracle InstantClient)\n",
    "https://www.oracle.com/database/technologies/instant-client/winx64-64-downloads.html\n",
    "## 2. 드라이버 경로 잡기\n",
    "- Python Oracle DB 연동 라이브러리 설치! cs_Oracle"
   ]
  },
  {
   "cell_type": "code",
   "execution_count": 7,
   "id": "163c4c3b",
   "metadata": {},
   "outputs": [
    {
     "name": "stdout",
     "output_type": "stream",
     "text": [
      "Collecting cx_Oracle\n",
      "  Downloading cx_Oracle-8.3.0-cp39-cp39-win_amd64.whl (213 kB)\n",
      "Installing collected packages: cx-Oracle\n",
      "Successfully installed cx-Oracle-8.3.0\n"
     ]
    }
   ],
   "source": [
    "!pip install cx_Oracle"
   ]
  },
  {
   "cell_type": "code",
   "execution_count": 14,
   "id": "efd2680c",
   "metadata": {},
   "outputs": [],
   "source": [
    "import os\n",
    "\n",
    "#Oracle 드라이버 디렉터리 경로 알려주기\n",
    "Location = r\"C:\\python_workspace\\Server\\instantclient-basic-windows.x64-21.6.0.0.0dbru\\instantclient_21_6\"\n",
    "\n",
    "#환경변수 등록하는 함수\n",
    "os.environ[\"PATH\"] = Location + \";\" + os.environ[\"PATH\"]"
   ]
  },
  {
   "cell_type": "markdown",
   "id": "3d0be1b1",
   "metadata": {},
   "source": [
    "# Python = Oracle DB 연동 4단계\n",
    "### 1. 드라이버 설치\n",
    "### 2. Connection 생성\n",
    "- Connection : Oracle DB로 가는 통로\n",
    "\n",
    "### 3. Cursor 생성\n",
    "- Cursor : 쿼리문을 보내는 통로\n",
    "\n",
    "### 4. 연결종료 "
   ]
  },
  {
   "cell_type": "markdown",
   "id": "64d2ab10",
   "metadata": {},
   "source": [
    "##  Connection 생성 / Cursor 생성"
   ]
  },
  {
   "cell_type": "code",
   "execution_count": 17,
   "id": "81b601d0",
   "metadata": {},
   "outputs": [],
   "source": [
    "import cx_Oracle as db\n",
    "\n",
    "def login_check(login_id,login_pw):\n",
    "    db_id = 'hr'\n",
    "    db_pw = 'hr'\n",
    "    #url은 ip주소 : 포트번호 / Oracle 버전 \n",
    "    url = '192.168.20.39:1521/xe'\n",
    "    #Oracle의 포트번호는 1521\n",
    "    conn = db.connect(db_id, db_pw, url)\n",
    "\n",
    "\n",
    "    #3. Cursor생성 (SQL문을 전달하는 역할)\n",
    "    #+Select 결과를 받아오는 역할\n",
    "    # Sursor는 Connection이 생성되었을 때 한다\n",
    "\n",
    "    curs = conn.cursor()\n",
    "\n",
    "\n",
    "    #로그인 알고리즘\n",
    "    #외부로부터 login_id, login_pw가 들어온다!!\n",
    "    #select pw from member where id='login_id'\n",
    "\n",
    "    # 테스트용 데이터\n",
    "    # login_id='admin'\n",
    "    # login_pw='1234'\n",
    "\n",
    "\n",
    "    sql = f\"select pw from member where id = '{login_id}'\"\n",
    "    curs.execute(sql)\n",
    "    result = curs.fetchall()\n",
    "    \n",
    "    try:\n",
    "        conn.close()\n",
    "        print(result[0][0])\n",
    "        if login_pw == result[0][0]:\n",
    "\n",
    "            print('로그인 성공')\n",
    "            return True\n",
    "        else:\n",
    "            print('로그인 실패')\n",
    "            return False      \n",
    "    except:\n",
    "        return False\n",
    "\n",
    "#.cursor() -> 커서생성\n",
    "#.execcute()  -> 쿼리문보내기\n",
    "#.fetchall(9) -> SELECT 결과 받아오기"
   ]
  },
  {
   "cell_type": "markdown",
   "id": "ac859604",
   "metadata": {},
   "source": []
  },
  {
   "cell_type": "markdown",
   "id": "68242449",
   "metadata": {},
   "source": [
    "## 회원가입\n",
    "###  1. 드라이버 설치\n",
    "###  2. Connection 생성 (db_id,db_pw,url)\n",
    "###  3. Cursor 생성 (SQL문을 전달하는 역할,쿼리 결과를 받아오는 역할)\n",
    "###  4. 연결 종료"
   ]
  },
  {
   "cell_type": "code",
   "execution_count": 18,
   "id": "e7e2147e",
   "metadata": {},
   "outputs": [],
   "source": [
    "import cx_Oracle as db\n",
    "def join(join_id,join_pw,join_name):\n",
    "    db_id = 'hr'\n",
    "    db_pw = 'hr'\n",
    "    url = '192.168.20.39:1521/xe'\n",
    "    conn = db.connect(db_id, db_pw, url)\n",
    "    curs = conn.cursor()\n",
    "    sql = \"insert into member(id,pw,name) values(:1,:2,:3)\"\n",
    "    curs.execute(sql,(join_id,join_pw,join_name))\n",
    "    conn.commit()\n",
    "    # data가 이동하는 통로는 열었던 역순으로 닫자\n",
    "    curs.close()\n",
    "    conn.close()"
   ]
  },
  {
   "cell_type": "code",
   "execution_count": 37,
   "id": "9c7496ab",
   "metadata": {},
   "outputs": [
    {
     "data": {
      "text/plain": [
       "\"('aaa', '123', 'ㅁㅁ', 100000)</br>('nayeho', '1234', '나예호', 100000)</br>('admin', '1234', 'gildong', None)</br>('choco', '1234', 'chulsoo', None)</br>('admin1', '1234', '관리자', 100000)\""
      ]
     },
     "execution_count": 37,
     "metadata": {},
     "output_type": "execute_result"
    }
   ],
   "source": [
    "import cx_Oracle as db\n",
    "\n",
    "def select():\n",
    "    db_id = 'hr' #database ID\n",
    "    db_pw = 'hr' #database PW\n",
    "    url='192.168.20.39:1521/xe' #database url, 기본주소 : localhost:1521/xe\n",
    "    conn = db.connect(db_id,db_pw,url)\n",
    "    curs = conn.cursor()\n",
    "    sql = 'select*from member'\n",
    "    rs = curs.execute(sql) #rs : result set\n",
    "    result = rs.fetchall()\n",
    "    \n",
    "    #return값에 리스트는 안되니까 전처리 필요\n",
    "    #join해서 가져올 때, 구분자를 ''안의 값으로 넣어서 가져오기\n",
    "    r = '</br>'.join(map(str,result))\n",
    "    return r\n",
    "select()"
   ]
  },
  {
   "cell_type": "code",
   "execution_count": null,
   "id": "9a03838b",
   "metadata": {},
   "outputs": [],
   "source": []
  },
  {
   "cell_type": "code",
   "execution_count": null,
   "id": "40088d8f",
   "metadata": {},
   "outputs": [],
   "source": []
  },
  {
   "cell_type": "code",
   "execution_count": null,
   "id": "ea2559f7",
   "metadata": {},
   "outputs": [],
   "source": []
  },
  {
   "cell_type": "code",
   "execution_count": null,
   "id": "40036dc8",
   "metadata": {},
   "outputs": [],
   "source": []
  },
  {
   "cell_type": "code",
   "execution_count": null,
   "id": "225ab6c8",
   "metadata": {},
   "outputs": [],
   "source": []
  },
  {
   "cell_type": "code",
   "execution_count": null,
   "id": "5e68f3c6",
   "metadata": {},
   "outputs": [],
   "source": []
  },
  {
   "cell_type": "code",
   "execution_count": null,
   "id": "74c52c2a",
   "metadata": {},
   "outputs": [],
   "source": []
  },
  {
   "cell_type": "code",
   "execution_count": null,
   "id": "53fc646f",
   "metadata": {},
   "outputs": [],
   "source": []
  },
  {
   "cell_type": "code",
   "execution_count": null,
   "id": "2aa18e93",
   "metadata": {},
   "outputs": [],
   "source": []
  },
  {
   "cell_type": "code",
   "execution_count": null,
   "id": "97c2b428",
   "metadata": {},
   "outputs": [],
   "source": []
  },
  {
   "cell_type": "code",
   "execution_count": null,
   "id": "36717b62",
   "metadata": {},
   "outputs": [],
   "source": []
  },
  {
   "cell_type": "code",
   "execution_count": null,
   "id": "083f04bf",
   "metadata": {},
   "outputs": [],
   "source": []
  }
 ],
 "metadata": {
  "kernelspec": {
   "display_name": "Python 3 (ipykernel)",
   "language": "python",
   "name": "python3"
  },
  "language_info": {
   "codemirror_mode": {
    "name": "ipython",
    "version": 3
   },
   "file_extension": ".py",
   "mimetype": "text/x-python",
   "name": "python",
   "nbconvert_exporter": "python",
   "pygments_lexer": "ipython3",
   "version": "3.9.12"
  },
  "vscode": {
   "interpreter": {
    "hash": "fc2d6540bbea4f6a1b4f1dc9b387650fb40225b3bef76c3fbf6f4f9fb71ea2d2"
   }
  }
 },
 "nbformat": 4,
 "nbformat_minor": 5
}
